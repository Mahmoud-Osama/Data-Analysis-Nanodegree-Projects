{
 "cells": [
  {
   "cell_type": "markdown",
   "metadata": {},
   "source": [
    "# Explore 2016 US Bikeshare Data\n",
    "\n",
    "## Table of Contents\n",
    "- [Introduction](#intro)\n",
    "- [Posing Questions](#pose_questions)\n",
    "- [Data Collection and Wrangling](#wrangling)\n",
    "  - [Condensing the Trip Data](#condensing)\n",
    "- [Exploratory Data Analysis](#eda)\n",
    "  - [Statistics](#statistics)\n",
    "  - [Visualizations](#visualizations)\n",
    "- [Performing Your Own Analysis](#eda_continued)\n",
    "- [Conclusions](#conclusions)\n",
    "\n",
    "<a id='intro'></a>\n",
    "## Introduction\n",
    "\n",
    "Over the past decade, bicycle-sharing systems have been growing in number and popularity in cities across the world. Bicycle-sharing systems allow users to rent bicycles for short trips, typically 30 minutes or less. Thanks to the rise in information technologies, it is easy for a user of the system to access a dock within the system to unlock or return bicycles. These technologies also provide a wealth of data that can be used to explore how these bike-sharing systems are used.\n",
    "\n",
    "In this project, I will perform an exploratory analysis on data provided by [Motivate](https://www.motivateco.com/), a bike-share system provider for many major cities in the United States. You will compare the system usage between three large cities: New York City, Chicago, and Washington, DC. You will also see if there are any differences within each system for those users that are registered, regular users and those users that are short-term, casual users."
   ]
  },
  {
   "cell_type": "markdown",
   "metadata": {},
   "source": [
    "<a id='pose_questions'></a>\n",
    "## Posing Questions\n",
    "\n",
    "Before looking at the bike sharing data, We should start by asking questions we might want to understand about the bike share data. Consider, for example, if we were working for Motivate. What kinds of information would we want to know about in order to make smarter business decisions? If we were users of the bike-share service, what factors might influence how we would want to use the service?\n",
    "\n",
    "**Question 1**: Write at least two questions related to bike sharing that you think could be answered by data.\n",
    "\n",
    "**Answer**: \n",
    "- What are the most crowding points across the city?\n",
    "- Which season has the highest ridership?-Which season has the lowest ridership?"
   ]
  },
  {
   "cell_type": "markdown",
   "metadata": {},
   "source": [
    "<a id='wrangling'></a>\n",
    "## Data Collection and Wrangling\n",
    "\n",
    "Now it's time to collect and explore our data. In this project, we will focus on the record of individual trips taken in 2016 from our selected cities: New York City, Chicago, and Washington, DC. Each of these cities has a page where we can freely download the trip data.:\n",
    "\n",
    "- New York City (Citi Bike): [Link](https://www.citibikenyc.com/system-data)\n",
    "- Chicago (Divvy): [Link](https://www.divvybikes.com/system-data)\n",
    "- Washington, DC (Capital Bikeshare): [Link](https://www.capitalbikeshare.com/system-data)\n",
    "\n",
    "If you visit these pages, you will notice that each city has a different way of delivering its data. Chicago updates with new data twice a year, Washington DC is quarterly, and New York City is monthly. **However, you do not need to download the data yourself.** The data has already been collected in the folder of the project files. While the original data for 2016 is spread among multiple files for each city, the files in the folder collect all of the trip data for the year into one file per city. Some data wrangling of inconsistencies in timestamp format within each city has already been performed for you. In addition, a random 2% sample of the original data is taken to make the exploration more manageable. \n",
    "\n",
    "**Question 2**: However, there is still a lot of data for us to investigate, so it's a good idea to start off by looking at one entry from each of the cities we're going to analyze. Run the first code cell below to load some packages and functions that you'll be using in your analysis. Then, complete the second code cell to print out the first trip recorded from each of the cities (the second line of each data file)."
   ]
  },
  {
   "cell_type": "code",
   "execution_count": 96,
   "metadata": {},
   "outputs": [],
   "source": [
    "## import all necessary packages and functions.\n",
    "import csv # read and write csv files\n",
    "from datetime import datetime # operations to parse dates\n",
    "from pprint import pprint # use to print data structures like dictionaries in\n",
    "                          # a nicer way than the base print function."
   ]
  },
  {
   "cell_type": "code",
   "execution_count": 97,
   "metadata": {},
   "outputs": [
    {
     "name": "stdout",
     "output_type": "stream",
     "text": [
      "\n",
      "City: Washington\n",
      "OrderedDict([('Duration (ms)', '427387'),\n",
      "             ('Start date', '3/31/2016 22:57'),\n",
      "             ('End date', '3/31/2016 23:04'),\n",
      "             ('Start station number', '31602'),\n",
      "             ('Start station', 'Park Rd & Holmead Pl NW'),\n",
      "             ('End station number', '31207'),\n",
      "             ('End station', 'Georgia Ave and Fairmont St NW'),\n",
      "             ('Bike number', 'W20842'),\n",
      "             ('Member Type', 'Registered')])\n",
      "\n",
      "City: NYC\n",
      "OrderedDict([('tripduration', '839'),\n",
      "             ('starttime', '1/1/2016 00:09:55'),\n",
      "             ('stoptime', '1/1/2016 00:23:54'),\n",
      "             ('start station id', '532'),\n",
      "             ('start station name', 'S 5 Pl & S 4 St'),\n",
      "             ('start station latitude', '40.710451'),\n",
      "             ('start station longitude', '-73.960876'),\n",
      "             ('end station id', '401'),\n",
      "             ('end station name', 'Allen St & Rivington St'),\n",
      "             ('end station latitude', '40.72019576'),\n",
      "             ('end station longitude', '-73.98997825'),\n",
      "             ('bikeid', '17109'),\n",
      "             ('usertype', 'Customer'),\n",
      "             ('birth year', ''),\n",
      "             ('gender', '0')])\n",
      "\n",
      "City: Chicago\n",
      "OrderedDict([('trip_id', '9080545'),\n",
      "             ('starttime', '3/31/2016 23:30'),\n",
      "             ('stoptime', '3/31/2016 23:46'),\n",
      "             ('bikeid', '2295'),\n",
      "             ('tripduration', '926'),\n",
      "             ('from_station_id', '156'),\n",
      "             ('from_station_name', 'Clark St & Wellington Ave'),\n",
      "             ('to_station_id', '166'),\n",
      "             ('to_station_name', 'Ashland Ave & Wrightwood Ave'),\n",
      "             ('usertype', 'Subscriber'),\n",
      "             ('gender', 'Male'),\n",
      "             ('birthyear', '1990')])\n"
     ]
    }
   ],
   "source": [
    "def print_first_point(filename):\n",
    "    \"\"\"\n",
    "    This function prints and returns the first data point (second row) from\n",
    "    a csv file that includes a header row.\n",
    "    \"\"\"\n",
    "    # print city name for reference\n",
    "    city = filename.split('-')[0].split('/')[-1]\n",
    "    print('\\nCity: {}'.format(city))\n",
    "    with open(filename, 'r') as f_in:\n",
    "        ## Use the csv library to set up a DictReader object. ##\n",
    "        ## see https://docs.python.org/3/library/csv.html           ##\n",
    "        trip_reader = csv.DictReader(f_in)\n",
    "        ## Use a function on the DictReader object to read the ##\n",
    "        ## first trip from the data file and store it in a variable.##\n",
    "        ## see https://docs.python.org/3/library/csv.html#reader-objects ##\n",
    "        first_trip =next(trip_reader)\n",
    "        ## Use the pprint library to print the first trip. ##\n",
    "        ## see https://docs.python.org/3/library/pprint.html     ##\n",
    "        pprint(first_trip)\n",
    "        \n",
    "    # output city name and first trip for later testing\n",
    "    return (city, first_trip)\n",
    "\n",
    "# list of files for each city\n",
    "data_files = ['Washington-CapitalBikeshare-2016.csv',\n",
    "              'NYC-CitiBike-2016.csv',\n",
    "              'Chicago-Divvy-2016.csv',]\n",
    "\n",
    "# print the first trip from each file, store in dictionary\n",
    "example_trips = {}\n",
    "for data_file in data_files:\n",
    "    city, first_trip = print_first_point(data_file)\n",
    "    example_trips[city] = first_trip"
   ]
  },
  {
   "cell_type": "markdown",
   "metadata": {},
   "source": [
    "If everything has been filled out correctly, you should see below the printout of each city name (which has been parsed from the data file name) that the first trip has been parsed in the form of a dictionary. When I set up a `DictReader` object, the first row of the data file is normally interpreted as column names. Every other row in the data file will use those column names as keys, as a dictionary is generated for each row.\n",
    "\n",
    "This will be useful since we can refer to quantities by an easily-understandable label instead of just a numeric index. For example, if we have a trip stored in the variable `row`, then we would rather get the trip duration from `row['duration']` instead of `row[0]`.\n",
    "\n",
    "<a id='condensing'></a>\n",
    "### Condensing the Trip Data\n",
    "\n",
    "It should also be observable from the above printout that each city provides different information. Even where the information is the same, the column names and formats are sometimes different. To make things as simple as possible when we get to the actual exploration, we should trim and clean the data. Cleaning the data makes sure that the data formats across the cities are consistent, while trimming focuses only on the parts of the data we are most interested in to make the exploration easier to work with.\n",
    "\n",
    "We will generate new data files with five values of interest for each trip: trip duration, starting month, starting hour, day of the week, and user type. Each of these may require additional wrangling depending on the city:\n",
    "\n",
    "- **Duration**: This has been given to us in seconds (New York, Chicago) or milliseconds (Washington). A more natural unit of analysis will be if all the trip durations are given in terms of minutes.\n",
    "- **Month**, **Hour**, **Day of Week**: Ridership volume is likely to change based on the season, time of day, and whether it is a weekday or weekend. We will use the start time of the trip to obtain these values. The New York City data includes the seconds in their timestamps, while Washington and Chicago do not. The [`datetime`](https://docs.python.org/3/library/datetime.html) package will be very useful here to make the needed conversions.\n",
    "- **User Type**: It is possible that users who are subscribed to a bike-share system will have different patterns of use compared to users who only have temporary passes. Washington divides its users into two types: 'Registered' for users with annual, monthly, and other longer-term subscriptions, and 'Casual', for users with 24-hour, 3-day, and other short-term passes. The New York and Chicago data uses 'Subscriber' and 'Customer' for these groups, respectively. For consistency, you will convert the Washington labels to match the other two.\n",
    "\n",
    "\n",
    "**Question 3a**: Complete the helper functions in the code cells below to address each of the cleaning tasks described above."
   ]
  },
  {
   "cell_type": "code",
   "execution_count": 98,
   "metadata": {},
   "outputs": [],
   "source": [
    "def duration_in_mins(datum, city):\n",
    "    \"\"\"\n",
    "    Takes as input a dictionary containing info about a single trip (datum) and\n",
    "    its origin city (city) and returns the trip duration in units of minutes.\n",
    "    \n",
    "    Remember that Washington is in terms of milliseconds while Chicago and NYC\n",
    "    are in terms of seconds. \n",
    "    \n",
    "    The csv module reads in all of the data as strings, including numeric\n",
    "    values. We will need a function to convert the strings into an appropriate\n",
    "    numeric type when making your transformations.see https://docs.python.org/3/library/functions.html\n",
    "    \"\"\"\n",
    "    duration = 0\n",
    "    if city ==\"Washington\":\n",
    "        duration_str=datum['Duration (ms)']\n",
    "        duration=float(duration_str)/60000\n",
    "    elif city==\"Chicago\":\n",
    "        duration_str=datum['tripduration']\n",
    "        duration=float(duration_str)/60\n",
    "    elif city==\"NYC\":\n",
    "        duration_str=datum['tripduration']\n",
    "        duration=float(duration_str)/60\n",
    "    \n",
    "    return duration\n",
    "\n",
    "\n",
    "# Some tests to check that your code works. There should be no output if all of\n",
    "# the assertions pass. The `example_trips` dictionary was obtained from when\n",
    "# you printed the first trip from each of the original data files.\n",
    "tests = {'NYC': 13.9833,\n",
    "         'Chicago': 15.4333,\n",
    "         'Washington': 7.1231}\n",
    "for city in tests:\n",
    "    assert abs(duration_in_mins(example_trips[city], city) - tests[city]) < .001"
   ]
  },
  {
   "cell_type": "code",
   "execution_count": 99,
   "metadata": {},
   "outputs": [],
   "source": [
    "def time_of_trip(datum, city):\n",
    "    \"\"\"\n",
    "    Takes as input a dictionary containing info about a single trip (datum) and\n",
    "    its origin city (city) and returns the month, hour, and day of the week in\n",
    "    which the trip was made.\n",
    "    \n",
    "    Remember that NYC includes seconds, while Washington and Chicago do not.\n",
    "    \n",
    "    HINT: We should use the datetime module to parse the original date\n",
    "    strings into a format that is useful for extracting the desired information.\n",
    "    see https://docs.python.org/3/library/datetime.html#strftime-and-strptime-behavior\n",
    "    \"\"\"\n",
    "    \n",
    "    if city ==\"Washington\":\n",
    "        date_str=datum['Start date']\n",
    "        date_object = datetime.strptime(date_str,'%m/%d/%Y %H:%M')\n",
    "        month = date_object.month\n",
    "        hour = date_object.hour\n",
    "        day_of_week = date_object.strftime('%A')\n",
    "    elif city==\"Chicago\":\n",
    "        date_str=datum['starttime']\n",
    "        date_object = datetime.strptime(date_str,'%m/%d/%Y %H:%M')\n",
    "        month = date_object.month\n",
    "        hour = date_object.hour\n",
    "        day_of_week = date_object.strftime('%A')\n",
    "    elif city==\"NYC\":\n",
    "        date_str=datum['starttime']\n",
    "        date_object = datetime.strptime(date_str,'%m/%d/%Y %H:%M:%S')\n",
    "        month = date_object.month\n",
    "        hour = date_object.hour\n",
    "        day_of_week = date_object.strftime('%A')\n",
    "    \n",
    "    return (month, hour, day_of_week)\n",
    "\n",
    "\n",
    "# Some tests to check that your code works. There should be no output if all of\n",
    "# the assertions pass. The `example_trips` dictionary was obtained from when\n",
    "# you printed the first trip from each of the original data files.\n",
    "tests = {'NYC': (1, 0, 'Friday'),\n",
    "         'Chicago': (3, 23, 'Thursday'),\n",
    "         'Washington': (3, 22, 'Thursday')}\n",
    "\n",
    "for city in tests:\n",
    "    assert time_of_trip(example_trips[city], city) == tests[city]"
   ]
  },
  {
   "cell_type": "code",
   "execution_count": 100,
   "metadata": {},
   "outputs": [],
   "source": [
    "def type_of_user(datum, city):\n",
    "    \"\"\"\n",
    "    Takes as input a dictionary containing info about a single trip (datum) and\n",
    "    its origin city (city) and returns the type of system user that made the\n",
    "    trip.\n",
    "    \n",
    "    Remember that Washington has different category names compared to Chicago\n",
    "    and NYC. \n",
    "    \"\"\"\n",
    "    if city==\"Chicago\" or city==\"NYC\":\n",
    "        user_type=datum['usertype'] \n",
    "    elif city ==\"Washington\":\n",
    "        usertype_str=datum['Member Type']\n",
    "        if usertype_str == \"Registered\":\n",
    "            user_type=\"Subscriber\"\n",
    "        elif usertype_str == \"Casual\":\n",
    "            user_type=\"Customer\"\n",
    "    \n",
    "    return user_type\n",
    "\n",
    "\n",
    "# Some tests to check that your code works. There should be no output if all of\n",
    "# the assertions pass. The `example_trips` dictionary was obtained from when\n",
    "# you printed the first trip from each of the original data files.\n",
    "tests = {'NYC': 'Customer',\n",
    "         'Chicago': 'Subscriber',\n",
    "         'Washington': 'Subscriber'}\n",
    "\n",
    "for city in tests:\n",
    "    assert type_of_user(example_trips[city], city) == tests[city]"
   ]
  },
  {
   "cell_type": "markdown",
   "metadata": {},
   "source": [
    "**Question 3b**: Now, use the helper functions you wrote above to create a condensed data file for each city consisting only of the data fields indicated above. In the `/examples/` folder, you will see an example datafile from the [Bay Area Bike Share](http://www.bayareabikeshare.com/open-data) before and after conversion. Make sure that your output is formatted to be consistent with the example file."
   ]
  },
  {
   "cell_type": "code",
   "execution_count": 101,
   "metadata": {},
   "outputs": [],
   "source": [
    "def condense_data(in_file, out_file, city):\n",
    "    \"\"\"\n",
    "    This function takes full data from the specified input file\n",
    "    and writes the condensed data to a specified output file. The city\n",
    "    argument determines how the input file will be parsed.\n",
    "    \"\"\"\n",
    "    \n",
    "    with open(out_file, 'w') as f_out, open(in_file, 'r') as f_in:\n",
    "        # set up csv DictWriter object - writer requires column names for the\n",
    "        # first row as the \"fieldnames\" argument\n",
    "        out_colnames = ['duration', 'month', 'hour', 'day_of_week', 'user_type']        \n",
    "        trip_writer = csv.DictWriter(f_out, fieldnames = out_colnames)\n",
    "        trip_writer.writeheader()\n",
    "        \n",
    "        ## TODO: set up csv DictReader object ##\n",
    "        trip_reader = csv.DictReader(f_in)\n",
    "\n",
    "        # collect data from and process each row\n",
    "     \n",
    "        for row in trip_reader: \n",
    "            # set up a dictionary to hold the values for the cleaned and trimmed\n",
    "            # data point\n",
    "            new_point = {}\n",
    "            ## TODO: use the helper functions to get the cleaned data from  ##\n",
    "            ## the original data dictionaries.                              ##\n",
    "            ## Note that the keys for the new_point dictionary should match ##\n",
    "            ## the column names set in the DictWriter object above.         ##\n",
    "            new_point['duration']=duration_in_mins(row, city) \n",
    "            new_point['month']= time_of_trip(row, city)[0]\n",
    "            new_point['hour']= time_of_trip(row, city)[1]\n",
    "            new_point['day_of_week']= time_of_trip(row, city)[2]\n",
    "            new_point['user_type']=type_of_user(row, city)\n",
    "            ## TODO: write the processed information to the output file.     ##\n",
    "            ## see https://docs.python.org/3/library/csv.html#writer-objects ##\n",
    "            trip_writer.writerow({'duration': new_point['duration'],'month': new_point['month'], 'hour': new_point['hour'],'day_of_week': new_point['day_of_week'], 'user_type': new_point['user_type']})\n",
    "            \n",
    "            "
   ]
  },
  {
   "cell_type": "code",
   "execution_count": 102,
   "metadata": {},
   "outputs": [
    {
     "name": "stdout",
     "output_type": "stream",
     "text": [
      "\n",
      "City: Washington\n",
      "OrderedDict([('duration', '7.123116666666666'),\n",
      "             ('month', '3'),\n",
      "             ('hour', '22'),\n",
      "             ('day_of_week', 'Thursday'),\n",
      "             ('user_type', 'Subscriber')])\n",
      "\n",
      "City: Chicago\n",
      "OrderedDict([('duration', '15.433333333333334'),\n",
      "             ('month', '3'),\n",
      "             ('hour', '23'),\n",
      "             ('day_of_week', 'Thursday'),\n",
      "             ('user_type', 'Subscriber')])\n",
      "\n",
      "City: NYC\n",
      "OrderedDict([('duration', '13.983333333333333'),\n",
      "             ('month', '1'),\n",
      "             ('hour', '0'),\n",
      "             ('day_of_week', 'Friday'),\n",
      "             ('user_type', 'Customer')])\n"
     ]
    }
   ],
   "source": [
    "# Run this cell to check your work\n",
    "city_info = {'Washington': {'in_file': 'Washington-CapitalBikeshare-2016.csv',\n",
    "                            'out_file': 'Washington-2016-Summary.csv'},\n",
    "             'Chicago': {'in_file': 'Chicago-Divvy-2016.csv',\n",
    "                         'out_file': 'Chicago-2016-Summary.csv'},\n",
    "             'NYC': {'in_file': 'NYC-CitiBike-2016.csv',\n",
    "                     'out_file': 'NYC-2016-Summary.csv'}}\n",
    "\n",
    "for city, filenames in city_info.items():\n",
    "    condense_data(filenames['in_file'], filenames['out_file'], city)\n",
    "    print_first_point(filenames['out_file'])"
   ]
  },
  {
   "cell_type": "markdown",
   "metadata": {},
   "source": [
    "<a id='eda'></a>\n",
    "## Exploratory Data Analysis\n",
    "\n",
    "Now that we have the data collected and wrangled, We're ready to start exploring the data. In this section we will write some code to compute descriptive statistics from the data. We will also be introduced to the `matplotlib` library to create some basic histograms of the data.\n",
    "\n",
    "<a id='statistics'></a>\n",
    "### Statistics\n",
    "\n",
    "First, let's compute some basic counts. The first cell below contains a function that uses the csv module to iterate through a provided data file, returning the number of trips made by subscribers and customers.\n",
    "\n",
    "**Question 4a**: Which city has the highest number of trips? Which city has the highest proportion of trips made by subscribers? Which city has the highest proportion of trips made by short-term customers?\n",
    "\n",
    "**Answer**: \n",
    "- **NYC** is the city has the highest number of trips\n",
    "-  **NYC** is the city has the highest proportion of trips made by subscribers\n",
    "-  **NYC** is the city has the highest proportion of trips made by short-term customers"
   ]
  },
  {
   "cell_type": "code",
   "execution_count": 103,
   "metadata": {},
   "outputs": [],
   "source": [
    "def number_of_trips(filename):\n",
    "    \"\"\"\n",
    "    This function reads in a file with trip data and reports the number of\n",
    "    trips made by subscribers, customers, and total overall.\n",
    "    \"\"\"\n",
    "    with open(filename, 'r') as f_in:\n",
    "        # set up csv reader object\n",
    "        reader = csv.DictReader(f_in)\n",
    "        \n",
    "        # initialize count variables\n",
    "        n_subscribers = 0\n",
    "        n_customers = 0\n",
    "        \n",
    "        # tally up ride types\n",
    "        for row in reader:\n",
    "            if row['user_type'] == 'Subscriber':\n",
    "                n_subscribers += 1\n",
    "            else:\n",
    "                n_customers += 1\n",
    "        \n",
    "        # compute total number of rides\n",
    "        n_total = n_subscribers + n_customers\n",
    "        \n",
    "        # return tallies as a tuple\n",
    "        return(n_subscribers, n_customers, n_total)"
   ]
  },
  {
   "cell_type": "code",
   "execution_count": 104,
   "metadata": {},
   "outputs": [
    {
     "name": "stdout",
     "output_type": "stream",
     "text": [
      "(51753, 14573, 66326)\n",
      "(54982, 17149, 72131)\n",
      "(245896, 30902, 276798)\n"
     ]
    }
   ],
   "source": [
    "## Modify this and the previous cell to answer Question 4a. Remember to run ##\n",
    "## the function on the cleaned data files you created from Question 3.      ##\n",
    "\n",
    "data_file = ['Washington-2016-Summary.csv','Chicago-2016-Summary.csv','NYC-2016-Summary.csv']\n",
    "\n",
    "for file in data_file:\n",
    "    print(number_of_trips(file))"
   ]
  },
  {
   "cell_type": "markdown",
   "metadata": {},
   "source": [
    "Now, We will write your own code to continue investigating properties of the data.\n",
    "\n",
    "**Question 4b**: Bike-share systems are designed for riders to take short trips. Most of the time, users are allowed to take trips of 30 minutes or less with no additional charges, with overage charges made for trips of longer than that duration. What is the average trip length for each city? What proportion of rides made in each city are longer than 30 minutes?"
   ]
  },
  {
   "cell_type": "code",
   "execution_count": 105,
   "metadata": {
    "scrolled": true
   },
   "outputs": [],
   "source": [
    "## Use this and additional cells to answer Question 4b.                 ##\n",
    "##                                                                      ##\n",
    "## HINT: The csv module reads in all of the data as strings, including  ##\n",
    "## numeric values. You will need a function to convert the strings      ##\n",
    "## into an appropriate numeric type before you aggregate data.          ##\n",
    "## TIP: For the Bay Area example, the average trip length is 14 minutes ##\n",
    "## and 3.5% of trips are longer than 30 minutes.                        ##\n",
    "\"\"\"This function reads in a file with trip data and reports the average length of\n",
    "    trips in each city\"\"\"\n",
    "def avg_trip_length(filename):\n",
    "    with open(filename, 'r') as f_in:\n",
    "        # set up csv reader object\n",
    "        reader =csv.DictReader(f_in)\n",
    "        \n",
    "        # initialize count&sum variables\n",
    "        n_more_than_30=0.0\n",
    "        n_less_than_30=0.0\n",
    "        total_duration=0.0\n",
    "        #extracting the data needed\n",
    "        for row in reader:\n",
    "            if float(row['duration']) > 30.0 :\n",
    "                n_more_than_30 += 1.0\n",
    "            else:\n",
    "                n_less_than_30 += 1.0\n",
    "            total_duration +=float(row['duration']) # compute total duration\n",
    "        n_trips= n_more_than_30 + n_less_than_30 # compute total number of rides\n",
    "        avg_length= int(total_duration/n_trips) # compute Average Length\n",
    "        proportion_of_rides_longer_than_30_min= (n_more_than_30/n_trips)\n",
    "        \n",
    "        # return Avg_length_of_trip & proportion_of_rides_longer_than_30_min\n",
    "    return(avg_length,proportion_of_rides_longer_than_30_min)\n"
   ]
  },
  {
   "cell_type": "code",
   "execution_count": 106,
   "metadata": {},
   "outputs": [
    {
     "name": "stdout",
     "output_type": "stream",
     "text": [
      "(18, 0.10838886711093688)\n",
      "(16, 0.08332062497400562)\n",
      "(15, 0.07302437156337835)\n"
     ]
    }
   ],
   "source": [
    "data_file = ['Washington-2016-Summary.csv','Chicago-2016-Summary.csv','NYC-2016-Summary.csv']\n",
    "for file in data_file:\n",
    "    print(avg_trip_length(file))\n"
   ]
  },
  {
   "cell_type": "markdown",
   "metadata": {},
   "source": [
    "**Answer**:\n",
    "- the average trip length for **NYC**: 15 min\n",
    "- the average trip length for **Washington**: 18 min\n",
    "- the average trip length for **Chicago**: 16 min\n",
    "- proportion of rides made in **NYC** longer than 30 minutes is: 7.3%\n",
    "- proportion of rides made in **Washington** longer than 30 minutes is: 10.8%\n",
    "- proportion of rides made in **Chicago** longer than 30 minutes is: 8.3%"
   ]
  },
  {
   "cell_type": "markdown",
   "metadata": {},
   "source": [
    "**Question 4c**: Dig deeper into the question of trip duration based on ridership. Choose one city. Within that city, which type of user takes longer rides on average: Subscribers or Customers?\n"
   ]
  },
  {
   "cell_type": "code",
   "execution_count": 107,
   "metadata": {},
   "outputs": [
    {
     "name": "stdout",
     "output_type": "stream",
     "text": [
      "(13, 141)\n"
     ]
    }
   ],
   "source": [
    "## Use this and additional cells to answer Question 4c. If you have    ##\n",
    "## not done so yet, consider revising some of your previous code to    ##\n",
    "## make use of functions for reusability.                              ##\n",
    "##                                                                     ##\n",
    "## TIP: For the Bay Area example data, you should find the average     ##\n",
    "## Subscriber trip duration to be 9.5 minutes and the average Customer ##\n",
    "## trip duration to be 54.6 minutes. Do the other cities have this     ##\n",
    "## level of difference?                                                ##\n",
    "\"\"\"This function reads in a file with trip data and reports the average length of\n",
    "    trips in each city\"\"\"\n",
    "def avg_trip_length(filename):\n",
    "    with open(filename, 'r') as f_in:\n",
    "        # set up csv reader object\n",
    "        reader =csv.DictReader(f_in)\n",
    "        \n",
    "        # initialize count&sum variables\n",
    "        n_customers=0.0\n",
    "        n_subscribers=0.0\n",
    "        total_duration=0.0\n",
    "        total_duration_customers=0.0\n",
    "        total_duration_subscribers=0.0\n",
    "        #extracting the data needed\n",
    "        for row in reader:\n",
    "            if row['user_type'] == 'Subscriber':\n",
    "                n_subscribers += 1\n",
    "                total_duration_subscribers += float(row['duration'])\n",
    "            else:\n",
    "                n_customers += 1\n",
    "            total_duration_customers +=float(row['duration']) # compute total duration\n",
    "        n_trips= n_subscribers + n_customers # compute total number of rides\n",
    "        avg_length_subscribers= int(total_duration_subscribers/n_subscribers) # compute Average Length\n",
    "        avg_length_customers= int(total_duration_customers/n_customers)\n",
    "        \n",
    "        # return Avg_length_of_trip_for_subscribers & return Avg_length_of_trip_for_customers\n",
    "    return( avg_length_subscribers,avg_length_customers)\n",
    "print(avg_trip_length('NYC-2016-Summary.csv'))"
   ]
  },
  {
   "cell_type": "markdown",
   "metadata": {},
   "source": [
    "**Answer**:\n",
    "- Type of user takes longer rides on average in **NYC**: **Customers**\n",
    "- the average Subscriber trip duration is **13 minutes** and the average Customer trip duration is **141 minutes**."
   ]
  },
  {
   "cell_type": "markdown",
   "metadata": {},
   "source": [
    "<a id='visualizations'></a>\n",
    "### Visualizations\n",
    "\n",
    "The last set of values that we computed pulled up an interesting result. While the mean trip time for Subscribers is well under 30 minutes, the mean trip time for Customers is actually _above_ 30 minutes! It will be interesting for us to look at how the trip times are distributed. In order to do this, a new library will be used here, `matplotlib`. Run the cell below to load the library and to generate an example plot."
   ]
  },
  {
   "cell_type": "code",
   "execution_count": 108,
   "metadata": {},
   "outputs": [
    {
     "data": {
      "image/png": "[encoded data removed]",
      "text/plain": [
       "<Figure size 432x288 with 1 Axes>"
      ]
     },
     "metadata": {
      "needs_background": "light"
     },
     "output_type": "display_data"
    }
   ],
   "source": [
    "# load library\n",
    "import matplotlib.pyplot as plt\n",
    "\n",
    "# this is a 'magic word' that allows for plots to be displayed\n",
    "# inline with the notebook. If you want to know more, see:\n",
    "# http://ipython.readthedocs.io/en/stable/interactive/magics.html\n",
    "%matplotlib inline \n",
    "\n",
    "# example histogram, data taken from bay area sample\n",
    "data = [ 7.65,  8.92,  7.42,  5.50, 16.17,  4.20,  8.98,  9.62, 11.48, 14.33,\n",
    "        19.02, 21.53,  3.90,  7.97,  2.62,  2.67,  3.08, 14.40, 12.90,  7.83,\n",
    "        25.12,  8.30,  4.93, 12.43, 10.60,  6.17, 10.88,  4.78, 15.15,  3.53,\n",
    "         9.43, 13.32, 11.72,  9.85,  5.22, 15.10,  3.95,  3.17,  8.78,  1.88,\n",
    "         4.55, 12.68, 12.38,  9.78,  7.63,  6.45, 17.38, 11.90, 11.52,  8.63,]\n",
    "plt.hist(data)\n",
    "plt.title('Distribution of Trip Durations')\n",
    "plt.xlabel('Duration (m)')\n",
    "plt.show()"
   ]
  },
  {
   "cell_type": "markdown",
   "metadata": {},
   "source": [
    "In the above cell, we collected fifty trip times in a list, and passed this list as the first argument to the `.hist()` function. This function performs the computations and creates plotting objects for generating a histogram, but the plot is actually not rendered until the `.show()` function is executed. The `.title()` and `.xlabel()` functions provide some labeling for plot context.\n",
    "\n",
    "We will now use these functions to create a histogram of the trip times for the city you selected in question 4c. We won't separate the Subscribers and Customers for now: just collect all of the trip times and plot them."
   ]
  },
  {
   "cell_type": "code",
   "execution_count": 109,
   "metadata": {},
   "outputs": [
    {
     "data": {
      "image/png": "[encoded data removed]",
      "text/plain": [
       "<Figure size 432x288 with 1 Axes>"
      ]
     },
     "metadata": {
      "needs_background": "light"
     },
     "output_type": "display_data"
    }
   ],
   "source": [
    "## Use this and additional cells to collect all of the trip times as a list ##\n",
    "with open('NYC-2016-Summary.csv', 'r') as f_in:\n",
    "        # set up csv reader object\n",
    "        reader =csv.DictReader(f_in)\n",
    "        \n",
    "        # initialize tank variable\n",
    "        NYC_duration=[]\n",
    "        #extracting the data needed\n",
    "        for row in reader:\n",
    "            NYC_duration.append(float(row['duration']))\n",
    "                \n",
    "            \n",
    "## and then use pyplot functions to generate a histogram of trip times.     ##\n",
    "# load library\n",
    "import matplotlib.pyplot as plt\n",
    "\n",
    "# this is a 'magic word' that allows for plots to be displayed\n",
    "# inline with the notebook.\n",
    "%matplotlib inline \n",
    "\n",
    "# histogram, data taken from NYC\n",
    "data = NYC_duration\n",
    "plt.hist(data)\n",
    "plt.title('Distribution of Trip Durations')\n",
    "plt.xlabel('Duration (m)')\n",
    "plt.show()"
   ]
  },
  {
   "cell_type": "markdown",
   "metadata": {},
   "source": [
    "We 're looking at a plot that's completely unexpected. The plot consists of one extremely tall bar on the left, and a whole lot of empty space in the center and right. Taking a look at the duration values on the x-axis. This suggests that there are some highly infrequent outliers in the data. Instead of reprocessing the data, we will use additional parameters with the `.hist()` function to limit the range of data that is plotted. Documentation for the function can be found [[here]](https://matplotlib.org/devdocs/api/_as_gen/matplotlib.pyplot.hist.html#matplotlib.pyplot.hist).\n",
    "\n",
    "**Question 5**: Use the parameters of the `.hist()` function to plot the distribution of trip times for the Subscribers in your selected city. Do the same thing for only the Customers. Add limits to the plots so that only trips of duration less than 75 minutes are plotted. As a bonus, set the plots up so that bars are in five-minute wide intervals. For each group, where is the peak of each distribution? How would you describe the shape of each distribution?\n"
   ]
  },
  {
   "cell_type": "code",
   "execution_count": 110,
   "metadata": {
    "scrolled": false
   },
   "outputs": [
    {
     "data": {
      "image/png": "[encoded data removed]",
      "text/plain": [
       "<Figure size 432x288 with 1 Axes>"
      ]
     },
     "metadata": {
      "needs_background": "light"
     },
     "output_type": "display_data"
    },
    {
     "data": {
      "image/png": "[encoded data removed]",
      "text/plain": [
       "<Figure size 432x288 with 1 Axes>"
      ]
     },
     "metadata": {
      "needs_background": "light"
     },
     "output_type": "display_data"
    },
    {
     "data": {
      "image/png": "[encoded data removed]",
      "text/plain": [
       "<Figure size 432x288 with 1 Axes>"
      ]
     },
     "metadata": {
      "needs_background": "light"
     },
     "output_type": "display_data"
    }
   ],
   "source": [
    "## Use this and additional cells to answer Question 5. ##\n",
    "with open('NYC-2016-Summary.csv', 'r') as f_in:\n",
    "        # set up csv reader object\n",
    "        reader =csv.DictReader(f_in)\n",
    "        # initialize tank variables\n",
    "        duration_customers=[]\n",
    "        duration_subscribers=[]\n",
    "        #extracting the data needed\n",
    "        for row in reader:\n",
    "            if row['user_type'] == 'Subscriber':\n",
    "                duration_customers.append(float(row['duration']))\n",
    "            else:\n",
    "                duration_subscribers.append(float(row['duration']))\n",
    "            \n",
    "## and then use pyplot functions to generate a histogram of trip times.     ##\n",
    "# load library\n",
    "import matplotlib.pyplot as plt\n",
    "\n",
    "# this is a 'magic word' that allows for plots to be displayed\n",
    "# inline with the notebook.\n",
    "%matplotlib inline \n",
    "\n",
    "# histogram, data taken from NYC\n",
    "data_1=duration_customers\n",
    "data_2=duration_subscribers\n",
    "plt.hist(data_1, bins=[5,10,15,20,25,30,35,40,45,50,55,60,65,70,75],rwidth=0.95,color=['green'])\n",
    "plt.title('Distribution of Customers Trip Durations')\n",
    "plt.xlabel('Duration (m)')\n",
    "plt.show()        \n",
    "plt.hist(data_2, bins=[5,10,15,20,25,30,35,40,45,50,55,60,65,70,75],rwidth=0.95,color=['orange'])\n",
    "plt.title('Distribution of Subscribers Trip Durations')\n",
    "plt.xlabel('Duration (m)')\n",
    "plt.show() \n",
    "plt.hist([data_1,data_2], bins=[5,10,15,20,25,30,35,40,45,50,55,60,65,70,75],rwidth=0.95,color=['green','orange'])\n",
    "plt.title('Distribution of Trip Durations of Customers Vs. Subscribers ')\n",
    "plt.xlabel('Duration (m)')\n",
    "plt.show()        "
   ]
  },
  {
   "cell_type": "markdown",
   "metadata": {},
   "source": [
    "**Answer**: \n",
    "- For Subsrcibers: - the peak is at **less than 10 min** and I would describe the shape and say that there is a negative relation between no of trips and duration of the trip\n",
    "- For Customers: - the peak is at **20 to 25 min**  and I would describe the shape and say that there is not a clear negative relative like the other user type as they tends to a longer trip duration"
   ]
  },
  {
   "cell_type": "markdown",
   "metadata": {
    "collapsed": true
   },
   "source": [
    "<a id='eda_continued'></a>\n",
    "## Performing our Own Analysis\n",
    "\n",
    "So far, we've performed an initial exploration into the data available. We have compared the relative volume of trips made between three U.S. cities and the ratio of trips made by Subscribers and Customers. For one of these cities, we have investigated differences between Subscribers and Customers in terms of how long a typical trip lasts. Now it is our turn to continue the exploration in a direction that we choose. \n",
    "\n",
    "**Question 6**: Continue the investigation by exploring another question that could be answered by the data available. Document the question you want to explore below. Your investigation should involve at least two variables and should compare at least two groups. You should also use at least one visualization as part of your explorations.\n",
    "\n",
    "We will work on **NYC City Dataset** and Our questions as follow:\n",
    "- Which season has the highest ridership?-Which season has the lowest ridership?\n",
    "- Does the ratio of Subscriber trips to Customer trips change depending on season?\n",
    "- which Day has the highest ridership?-Which day has the lowest ridership?:\n",
    "- Does the ratio of Subscriber trips to Customer trips change depending on the weekend?"
   ]
  },
  {
   "cell_type": "code",
   "execution_count": 111,
   "metadata": {},
   "outputs": [
    {
     "name": "stdout",
     "output_type": "stream",
     "text": [
      "(88366.0, 63028.0, 37536.0, 87868.0)\n"
     ]
    }
   ],
   "source": [
    "## Use this and additional cells to continue to explore the dataset. ##\n",
    "## Once you have performed your exploration, document your findings  ##\n",
    "## in the Markdown cell above.                                       ##\n",
    "\"\"\"This function reads in a file with trip data and reports the number of trips in each season\"\"\"\n",
    "def number_of_rides_per_season(filename):\n",
    "    with open(filename, 'r') as f_in:\n",
    "        # set up csv reader object\n",
    "        reader =csv.DictReader(f_in)\n",
    "        \n",
    "        # initialize count variables\n",
    "        n_autumn=0.0\n",
    "        n_spring=0.0\n",
    "        n_winter=0.0\n",
    "        n_summer=0.0\n",
    "        \n",
    "        #extracting the data needed\n",
    "        for row in reader:\n",
    "            if float(row['month']) == 12.0 or float(row['month']) == 1.0 or float(row['month']) == 2.0 :\n",
    "                n_winter += 1.0\n",
    "            elif float(row['month']) == 3.0 or float(row['month']) == 4.0 or float(row['month']) == 5.0 :\n",
    "                n_spring += 1.0\n",
    "            elif float(row['month']) == 6.0 or float(row['month']) == 7.0 or float(row['month']) == 8.0 :\n",
    "                n_summer += 1.0\n",
    "            elif float(row['month']) == 9.0 or float(row['month']) == 10.0 or float(row['month']) == 11.0 :\n",
    "                n_autumn += 1.0\n",
    "   \n",
    "        # no_of_rides_per_season\n",
    "    return(n_autumn,n_spring,n_winter,n_summer)\n",
    "print(number_of_rides_per_season('NYC-2016-Summary.csv'))"
   ]
  },
  {
   "cell_type": "code",
   "execution_count": 112,
   "metadata": {},
   "outputs": [
    {
     "name": "stdout",
     "output_type": "stream",
     "text": [
      "(78554.0, 55309.0, 35690.0, 76343.0, 9812.0, 7719.0, 1846.0, 11525.0)\n"
     ]
    }
   ],
   "source": [
    "\"\"\"This function reads in a file with trip data and reports the number of trips in each season per user type\"\"\"\n",
    "def number_of_rides_per_season_per_user_type(filename):\n",
    "    with open(filename, 'r') as f_in:\n",
    "        # set up csv reader object\n",
    "        reader =csv.DictReader(f_in)\n",
    "        \n",
    "        # initialize count variables\n",
    "        n_autumn_subscriber=0.0\n",
    "        n_spring_subscriber=0.0\n",
    "        n_winter_subscriber=0.0\n",
    "        n_summer_subscriber=0.0\n",
    "        n_autumn_customer=0.0\n",
    "        n_spring_customer=0.0\n",
    "        n_winter_customer=0.0\n",
    "        n_summer_customer=0.0\n",
    "        \n",
    "        #extracting the data needed\n",
    "        for row in reader:\n",
    "            if row['user_type'] == 'Subscriber':\n",
    "                \n",
    "                if float(row['month']) == 12.0 or float(row['month']) == 1.0 or float(row['month']) == 2.0 :\n",
    "                    n_winter_subscriber += 1.0\n",
    "                elif float(row['month']) == 3.0 or float(row['month']) == 4.0 or float(row['month']) == 5.0 :\n",
    "                    n_spring_subscriber += 1.0\n",
    "                elif float(row['month']) == 6.0 or float(row['month']) == 7.0 or float(row['month']) == 8.0 :\n",
    "                    n_summer_subscriber += 1.0\n",
    "                elif float(row['month']) == 9.0 or float(row['month']) == 10.0 or float(row['month']) == 11.0 :\n",
    "                    n_autumn_subscriber += 1.0\n",
    "            else:\n",
    "                if float(row['month']) == 12.0 or float(row['month']) == 1.0 or float(row['month']) == 2.0 :\n",
    "                    n_winter_customer += 1.0\n",
    "                elif float(row['month']) == 3.0 or float(row['month']) == 4.0 or float(row['month']) == 5.0 :\n",
    "                    n_spring_customer += 1.0\n",
    "                elif float(row['month']) == 6.0 or float(row['month']) == 7.0 or float(row['month']) == 8.0 :\n",
    "                    n_summer_customer += 1.0\n",
    "                elif float(row['month']) == 9.0 or float(row['month']) == 10.0 or float(row['month']) == 11.0 :\n",
    "                    n_autumn_customer += 1.0\n",
    "            \n",
    "        # no_of_rides_per_season\n",
    "    return(n_autumn_subscriber,n_spring_subscriber,n_winter_subscriber,n_summer_subscriber,n_autumn_customer,n_spring_customer,n_winter_customer,n_summer_customer)\n",
    "print(number_of_rides_per_season_per_user_type('NYC-2016-Summary.csv'))"
   ]
  },
  {
   "cell_type": "code",
   "execution_count": 113,
   "metadata": {},
   "outputs": [
    {
     "data": {
      "image/png": "[encoded data removed]",
      "text/plain": [
       "<Figure size 432x288 with 1 Axes>"
      ]
     },
     "metadata": {
      "needs_background": "light"
     },
     "output_type": "display_data"
    },
    {
     "name": "stdout",
     "output_type": "stream",
     "text": [
      "(33353.0, 31352.0, 39340.0, 42405.0, 44629.0, 44330.0, 41389.0)\n"
     ]
    }
   ],
   "source": [
    "## and then use pyplot functions to generate a histogram of trip times.     ##\n",
    "# load library\n",
    "import matplotlib.pyplot as plt\n",
    "\n",
    "# this is a 'magic word' that allows for plots to be displayed\n",
    "# inline with the notebook.\n",
    "%matplotlib inline \n",
    "\"\"\"This function reads in a file with trip data and reports the no of trips through days of the week and plot them\"\"\"\n",
    "def plot_no_of_rides_per_day(filename):\n",
    "    with open(filename, 'r') as f_in:\n",
    "        # set up csv reader object\n",
    "        reader =csv.DictReader(f_in)\n",
    "        \n",
    "        # initialize count variables\n",
    "        n_saturday=0.0\n",
    "        n_sunday=0.0\n",
    "        n_monday=0.0\n",
    "        n_tuesday=0.0\n",
    "        n_wednesday=0.0\n",
    "        n_thursday=0.0\n",
    "        n_friday=0.0\n",
    "        \n",
    "       \n",
    "        \n",
    "        #extracting the data needed\n",
    "        for row in reader:\n",
    "            if row['day_of_week'] == 'Saturday':\n",
    "                n_saturday += 1.0\n",
    "            elif row['day_of_week'] == 'Sunday':\n",
    "                n_sunday += 1.0\n",
    "            elif row['day_of_week'] == 'Monday' :\n",
    "                n_monday += 1.0\n",
    "            elif row['day_of_week'] == 'Tuesday' :\n",
    "                n_tuesday += 1.0\n",
    "            elif row['day_of_week'] == 'Wednesday' :\n",
    "                n_wednesday += 1.0\n",
    "            elif row['day_of_week'] == 'Thursday' :\n",
    "                n_thursday += 1.0\n",
    "            elif row['day_of_week'] == 'Friday' :\n",
    "                n_friday += 1.0\n",
    "    # histogram, data taken from NYC\n",
    "    plt.hist([n_saturday, n_sunday,n_monday, n_tuesday,n_wednesday,n_thursday, n_friday], rwidth=0.95,color=['red'])\n",
    "    plt.title('Distribution of Trips through days of the week')\n",
    "    plt.xlabel('No of Trips')\n",
    "    plt.show()          \n",
    "    return(n_saturday,n_sunday,n_monday,n_tuesday,n_wednesday,n_thursday,n_friday)     \n",
    "print(plot_no_of_rides_per_day('NYC-2016-Summary.csv'))\n",
    "\n",
    "\n",
    "\n",
    "      \n",
    "       "
   ]
  },
  {
   "cell_type": "code",
   "execution_count": 114,
   "metadata": {},
   "outputs": [
    {
     "data": {
      "image/png": "[encoded data removed]",
      "text/plain": [
       "<Figure size 432x288 with 1 Axes>"
      ]
     },
     "metadata": {
      "needs_background": "light"
     },
     "output_type": "display_data"
    },
    {
     "data": {
      "image/png": "[encoded data removed]",
      "text/plain": [
       "<Figure size 432x288 with 1 Axes>"
      ]
     },
     "metadata": {
      "needs_background": "light"
     },
     "output_type": "display_data"
    },
    {
     "name": "stdout",
     "output_type": "stream",
     "text": [
      "(0.9227992591752655, 0.07720074082473448, 0.7850989522700815, 0.2149010477299185)\n"
     ]
    }
   ],
   "source": [
    "## and then use pyplot functions to generate a histogram.    ##\n",
    "# load library\n",
    "import matplotlib.pyplot as plt\n",
    "# this is a 'magic word' that allows for plots to be displayed\n",
    "# inline with the notebook.\n",
    "%matplotlib inline \n",
    "\n",
    "def no_of_rides__proportion_in_weekdays_and_weekends_per_usertype(filename):\n",
    "    with open(filename, 'r') as f_in:\n",
    "        # set up csv reader object\n",
    "        reader =csv.DictReader(f_in)\n",
    "        \n",
    "        # initialize count variables\n",
    "   \n",
    "        n_weekend_subscriber = 0.0\n",
    "        n_weekday_subscriber = 0.0\n",
    "        n_weekend_customer = 0.0\n",
    "        n_weekday_customer = 0.0\n",
    "        n_weekday = 0.0\n",
    "        n_weekend = 0.0\n",
    "\n",
    "       \n",
    "        \n",
    "        #extracting the data needed\n",
    "        for row in reader:\n",
    "            if row['user_type'] == 'Subscriber':\n",
    "                if row['day_of_week'] == 'Saturday' or row['day_of_week'] == 'Sunday':\n",
    "                    n_weekend_subscriber += 1.0\n",
    "                else:\n",
    "                    n_weekday_subscriber += 1.0\n",
    "            elif row['user_type'] == 'Customer':\n",
    "                if row['day_of_week'] == 'Saturday' or row['day_of_week'] == 'Sunday':\n",
    "                    n_weekend_customer += 1.0\n",
    "                else:\n",
    "                    n_weekday_customer += 1.0\n",
    "        n_weekday = n_weekday_subscriber + n_weekday_customer\n",
    "        n_weekend = n_weekend_subscriber + n_weekend_customer\n",
    "         \n",
    "        avg_subscriber_rides_weekday=(n_weekday_subscriber/n_weekday)\n",
    "        avg_subscriber_rides_weekend= (n_weekend_subscriber/n_weekend)\n",
    "        avg_customer_rides_weekday= ( n_weekday_customer/n_weekday)\n",
    "        avg_customer_rides_weekend= (n_weekend_customer/n_weekend)\n",
    "    plt.hist([avg_subscriber_rides_weekend,avg_customer_rides_weekend], rwidth=0.95,color=['red'])\n",
    "    plt.title('proportion of Trips of subscribers vs customers through weekends')\n",
    "    plt.xlabel('No of Trips')\n",
    "    plt.show()\n",
    "    plt.hist([avg_subscriber_rides_weekday, avg_customer_rides_weekday], rwidth=0.95,color=['yellow'])\n",
    "    plt.title('proportion of Trips of subscribers vs customers through weekdays ')\n",
    "    plt.xlabel('No of Trips')\n",
    "    plt.show()  \n",
    "    return(avg_subscriber_rides_weekday, avg_customer_rides_weekday, avg_subscriber_rides_weekend,avg_customer_rides_weekend)     \n",
    "print(no_of_rides__proportion_in_weekdays_and_weekends_per_usertype('NYC-2016-Summary.csv'))\n"
   ]
  },
  {
   "cell_type": "markdown",
   "metadata": {},
   "source": [
    "**Answer**:\n",
    "In **NYC City**\n",
    "- Which season has the highest ridership?-Which season has the lowest ridership?: - **Autumn** season has the highest ridership while **Winter** season has the lowest ridership\n",
    "- Does the ratio of Subscriber trips to Customer trips change depending on season?: -Yes, as the top season for **subscribers** is **autumn** while the top season for **customers** is **summer**\n",
    "- which Day has the highest ridership?-Which day has the lowest ridership?:- **Wednesday** has the highest ridership while **Sunday** season has the lowest ridership\n",
    "- Does the ratio of Subscriber trips to Customer trips change depending on the weekend?: yes, **Customer** ratio rises significantly on **weekends** to 3 times its ratio through weekdays eventhough **subscriber** ratio is more than customer ratio in both cases."
   ]
  },
  {
   "cell_type": "markdown",
   "metadata": {},
   "source": [
    "<a id='conclusions'></a>\n",
    "## Conclusions\n",
    "\n",
    "Normally, at this point in the data analysis process, we might want to draw conclusions about the data by performing a statistical test or fitting the data to a model for making predictions. There are also a lot of potential analyses that could be performed on the data which are not possible with only the data provided. For example, detailed location data has not been investigated. Where are the most commonly used docks? What are the most common routes? As another example, weather has potential to have a large impact on daily ridership. How much is ridership impacted when there is rain or snow? Are subscribers or customers affected more by changes in weather?\n",
    "\n",
    "**Question 7**: Putting the bike share data aside, think of a topic or field of interest where you would like to be able to apply the techniques of data science. What would you like to be able to learn from your chosen subject?\n",
    "\n",
    "**Answer**: Football field , we can get to know the real statistics of each player and how to improve his abilities to the best form and even build up predictions for the status of players of  the competing team."
   ]
  }
 ],
 "metadata": {
  "anaconda-cloud": {},
  "kernelspec": {
   "display_name": "Python 3",
   "language": "python",
   "name": "python3"
  },
  "language_info": {
   "codemirror_mode": {
    "name": "ipython",
    "version": 3
   },
   "file_extension": ".py",
   "mimetype": "text/x-python",
   "name": "python",
   "nbconvert_exporter": "python",
   "pygments_lexer": "ipython3",
   "version": "3.7.1"
  }
 },
 "nbformat": 4,
 "nbformat_minor": 1
}
